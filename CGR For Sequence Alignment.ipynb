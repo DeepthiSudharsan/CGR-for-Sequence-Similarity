{
 "cells": [
  {
   "cell_type": "code",
   "execution_count": 1,
   "metadata": {},
   "outputs": [],
   "source": [
    "import collections\n",
    "from collections import OrderedDict\n",
    "from matplotlib import pyplot as plt\n",
    "from matplotlib import cm\n",
    "import pylab\n",
    "import math"
   ]
  },
  {
   "cell_type": "code",
   "execution_count": 6,
   "metadata": {},
   "outputs": [],
   "source": [
    "class CGR_SeqAlignment:\n",
    "    def count_kmers(self,sequence, k):\n",
    "        d = collections.defaultdict(int)\n",
    "        for i in range(len(data)-(k-1)):\n",
    "            d[sequence[i:i+k]] +=1\n",
    "        for key in list(d):\n",
    "            if \"N\" in key:\n",
    "                del d[key]\n",
    "        return d\n",
    "    def probabilities(self,kmer_count, k):\n",
    "        probabilities = collections.defaultdict(float)\n",
    "        N = len(data)\n",
    "        for key, value in kmer_count.items():\n",
    "            probabilities[key] = float(value) / (N - k + 1)\n",
    "        return probabilities\n",
    "\n",
    "    def chaos_game_representation(self,probabilities, k):\n",
    "        array_size = int(math.sqrt(4**k))\n",
    "        chaos = []\n",
    "        for i in range(array_size):\n",
    "            chaos.append([0]*array_size)\n",
    "\n",
    "        maxx = array_size\n",
    "        maxy = array_size\n",
    "        posx = 4\n",
    "        posy = 4\n",
    "        for key, value in probabilities.items():\n",
    "            for char in key:\n",
    "                if char == \"T\":\n",
    "                    posx += maxx // 2\n",
    "                elif char == \"C\":\n",
    "                    posy += maxy // 2\n",
    "                elif char == \"G\":\n",
    "                    posx += maxx // 2\n",
    "                    posy += maxy // 2\n",
    "                maxx = maxx // 2\n",
    "                maxy = maxy//2\n",
    "             #   print(char,\" posx \",posx,\" posy \",posy)\n",
    "            chaos[posy-4][posx-4] = value\n",
    "            maxx = array_size\n",
    "            maxy = array_size\n",
    "            posx = 4\n",
    "            posy = 4\n",
    "\n",
    "        return chaos"
   ]
  },
  {
   "cell_type": "code",
   "execution_count": 7,
   "metadata": {},
   "outputs": [],
   "source": [
    "f = open(\"NC_012920.fasta\")\n",
    "s1 = f.read()\n",
    "data = \"\".join(s1.split(\"\\n\")[0:])"
   ]
  },
  {
   "cell_type": "code",
   "execution_count": 8,
   "metadata": {},
   "outputs": [],
   "source": [
    "k1 = 3\n",
    "k2 = 4\n",
    "cgr = CGR_SeqAlignment()\n",
    "f3 = cgr.count_kmers(data,k1)\n",
    "f4 = cgr.count_kmers(data,k2)"
   ]
  },
  {
   "cell_type": "code",
   "execution_count": 9,
   "metadata": {},
   "outputs": [],
   "source": [
    "f3_prob = cgr.probabilities(f3, k1)\n",
    "f4_prob  = cgr.probabilities(f4, k2)"
   ]
  },
  {
   "cell_type": "code",
   "execution_count": 11,
   "metadata": {},
   "outputs": [
    {
     "data": {
      "image/png": "[encoded data removed]",
      "text/plain": [
       "<Figure size 432x288 with 1 Axes>"
      ]
     },
     "metadata": {
      "needs_background": "light"
     },
     "output_type": "display_data"
    }
   ],
   "source": [
    "chaos_k3 = cgr.chaos_game_representation(f3_prob, k1)\n",
    "pylab.title('Chaos game representation for 3-mers')\n",
    "pylab.imshow(chaos_k3, interpolation='nearest', cmap=cm.gray_r)\n",
    "plt.gca().invert_yaxis()\n",
    "pylab.show()"
   ]
  },
  {
   "cell_type": "code",
   "execution_count": 13,
   "metadata": {},
   "outputs": [
    {
     "data": {
      "image/png": "[encoded data removed]",
      "text/plain": [
       "<Figure size 432x288 with 1 Axes>"
      ]
     },
     "metadata": {
      "needs_background": "light"
     },
     "output_type": "display_data"
    }
   ],
   "source": [
    "chaos_k4 = cgr.chaos_game_representation(f4_prob, k2)\n",
    "pylab.title('Chaos game representation for 4-mers')\n",
    "pylab.imshow(chaos_k4, interpolation='nearest', cmap=cm.gray_r)\n",
    "plt.gca().invert_yaxis()\n",
    "pylab.show()"
   ]
  },
  {
   "cell_type": "code",
   "execution_count": null,
   "metadata": {},
   "outputs": [],
   "source": []
  }
 ],
 "metadata": {
  "kernelspec": {
   "display_name": "Python 3",
   "language": "python",
   "name": "python3"
  },
  "language_info": {
   "codemirror_mode": {
    "name": "ipython",
    "version": 3
   },
   "file_extension": ".py",
   "mimetype": "text/x-python",
   "name": "python",
   "nbconvert_exporter": "python",
   "pygments_lexer": "ipython3",
   "version": "3.7.4"
  }
 },
 "nbformat": 4,
 "nbformat_minor": 2
}
